{
 "cells": [
  {
   "cell_type": "markdown",
   "metadata": {
    "tags": []
   },
   "source": [
    "# Lab of computational physics - EXR03\n",
    "\n",
    "#### Barone Francesco Pio, AY 2021/22 UniPD"
   ]
  },
  {
   "cell_type": "code",
   "execution_count": 1,
   "metadata": {},
   "outputs": [],
   "source": [
    "# required for this Jupyter book\n",
    "import numpy as np\n",
    "import matplotlib.pyplot as plt\n",
    "%matplotlib inline"
   ]
  },
  {
   "cell_type": "markdown",
   "metadata": {},
   "source": [
    "### 1\\. Find the row, column and overall means for the following matrix:\n",
    "\n",
    "```python\n",
    "m = np.arange(12).reshape((3,4))\n",
    "```"
   ]
  },
  {
   "cell_type": "code",
   "execution_count": 2,
   "metadata": {},
   "outputs": [
    {
     "name": "stdout",
     "output_type": "stream",
     "text": [
      "the matrix is\n",
      " [[ 0  1  2  3]\n",
      " [ 4  5  6  7]\n",
      " [ 8  9 10 11]]\n",
      "overall mean: 5.5\n",
      "row_0 mean 1.5\n",
      "row_1 mean 5.5\n",
      "row_2 mean 9.5\n",
      "column_0 mean 4.0\n",
      "column_1 mean 5.0\n",
      "column_2 mean 6.0\n",
      "column_3 mean 7.0\n"
     ]
    }
   ],
   "source": [
    "m = np.arange(12).reshape((3,4))\n",
    "\n",
    "print('the matrix is\\n', m )\n",
    "print('overall mean:',np.mean(m) ) # overall mean\n",
    "for i in range(m.shape[0]):\n",
    "    print(f'row_{i} mean', np.mean(m[i,:]))\n",
    "for i in range(m.shape[1]):\n",
    "    print(f'column_{i} mean', np.mean(m[:,i]))"
   ]
  },
  {
   "cell_type": "markdown",
   "metadata": {},
   "source": [
    "### 2\\. Find the outer product of the following two vectors\n",
    "\n",
    "```python\n",
    "u = np.array([1,3,5,7])\n",
    "v = np.array([2,4,6,8])\n",
    "```\n",
    "\n",
    "Do this in the following ways:\n",
    "\n",
    "   * Using the function outer in numpy\n",
    "   * Using a nested for loop or list comprehension\n",
    "   * Using numpy broadcasting operatoins\n"
   ]
  },
  {
   "cell_type": "code",
   "execution_count": 3,
   "metadata": {},
   "outputs": [
    {
     "data": {
      "text/plain": [
       "array([[ 2,  4,  6,  8],\n",
       "       [ 6, 12, 18, 24],\n",
       "       [10, 20, 30, 40],\n",
       "       [14, 28, 42, 56]])"
      ]
     },
     "execution_count": 3,
     "metadata": {},
     "output_type": "execute_result"
    }
   ],
   "source": [
    "u = np.array([1,3,5,7]);   v = np.array([2,4,6,8]);\n",
    "\n",
    "np.outer(u, v)  # using outer function"
   ]
  },
  {
   "cell_type": "code",
   "execution_count": 4,
   "metadata": {},
   "outputs": [
    {
     "data": {
      "text/plain": [
       "array([[ 2,  4,  6,  8],\n",
       "       [ 6, 12, 18, 24],\n",
       "       [10, 20, 30, 40],\n",
       "       [14, 28, 42, 56]])"
      ]
     },
     "execution_count": 4,
     "metadata": {},
     "output_type": "execute_result"
    }
   ],
   "source": [
    "u = np.array([1,3,5,7]);   v = np.array([2,4,6,8]);\n",
    "\n",
    "np.array( [ r*c for r in u for c in v ] ).reshape(len(u),len(v))  # using list comprehension & reshape"
   ]
  },
  {
   "cell_type": "code",
   "execution_count": 5,
   "metadata": {},
   "outputs": [
    {
     "data": {
      "text/plain": [
       "array([[ 2,  4,  6,  8],\n",
       "       [ 6, 12, 18, 24],\n",
       "       [10, 20, 30, 40],\n",
       "       [14, 28, 42, 56]])"
      ]
     },
     "execution_count": 5,
     "metadata": {},
     "output_type": "execute_result"
    }
   ],
   "source": [
    "u = np.array([1,3,5,7]);   v = np.array([2,4,6,8]);\n",
    "\n",
    "np.atleast_2d(u).T * v  # using broadcasting (requires first vector to be column)"
   ]
  },
  {
   "cell_type": "markdown",
   "metadata": {},
   "source": [
    "### 3\\. Create a 10 by 6 matrix of random uniform numbers. Set all rows with any entry less than 0.1 to be zero\n",
    "\n",
    "Hint: Use the following numpy functions - np.random.random, np.any as well as Boolean indexing and the axis argument."
   ]
  },
  {
   "cell_type": "code",
   "execution_count": 6,
   "metadata": {},
   "outputs": [
    {
     "name": "stdout",
     "output_type": "stream",
     "text": [
      "before\n",
      " [[0.64560238 0.62292278 0.18388456 0.94672276 0.22842081 0.55285834]\n",
      " [0.93826187 0.73161395 0.08236288 0.57954319 0.64262216 0.54278531]\n",
      " [0.31641118 0.57578019 0.97822887 0.02622942 0.47809326 0.08441737]\n",
      " [0.28723273 0.55105207 0.97940484 0.63484119 0.77255874 0.26082983]\n",
      " [0.65888957 0.74575538 0.59005807 0.77469895 0.72255236 0.17496339]\n",
      " [0.96509218 0.4292717  0.10821153 0.80680733 0.66115719 0.32427267]\n",
      " [0.80241349 0.16006811 0.19055284 0.6801956  0.78767944 0.90253394]\n",
      " [0.58760844 0.94700842 0.62040086 0.79607903 0.9465503  0.71889004]\n",
      " [0.30897106 0.40743245 0.29350825 0.18752255 0.58396596 0.26207235]\n",
      " [0.56845274 0.68730603 0.08710644 0.44737324 0.60505044 0.23187203]]\n",
      "after\n",
      " [[0.64560238 0.62292278 0.18388456 0.94672276 0.22842081 0.55285834]\n",
      " [0.         0.         0.         0.         0.         0.        ]\n",
      " [0.         0.         0.         0.         0.         0.        ]\n",
      " [0.28723273 0.55105207 0.97940484 0.63484119 0.77255874 0.26082983]\n",
      " [0.65888957 0.74575538 0.59005807 0.77469895 0.72255236 0.17496339]\n",
      " [0.96509218 0.4292717  0.10821153 0.80680733 0.66115719 0.32427267]\n",
      " [0.80241349 0.16006811 0.19055284 0.6801956  0.78767944 0.90253394]\n",
      " [0.58760844 0.94700842 0.62040086 0.79607903 0.9465503  0.71889004]\n",
      " [0.30897106 0.40743245 0.29350825 0.18752255 0.58396596 0.26207235]\n",
      " [0.         0.         0.         0.         0.         0.        ]]\n"
     ]
    }
   ],
   "source": [
    "m = np.random.random((10,6))\n",
    "print('before\\n', m)\n",
    "m[ np.any(m<0.1, axis=1), ...] = 0\n",
    "print('after\\n', m)"
   ]
  },
  {
   "cell_type": "markdown",
   "metadata": {},
   "source": [
    "### 4\\. Use np.linspace to create an array of 100 numbers between 0 and 2π (inclusive).\n",
    "\n",
    "  * Extract every 10th element using slice notation\n",
    "  * Reverse the array using slice notation\n",
    "  * Extract elements where the absolute difference between the sine and cosine functions evaluated at that element is less than 0.1\n",
    "  * Make a plot showing the sin and cos functions and indicate where they are close"
   ]
  },
  {
   "cell_type": "code",
   "execution_count": 7,
   "metadata": {},
   "outputs": [
    {
     "data": {
      "image/png": "[encoded data removed]",
      "text/plain": [
       "<Figure size 432x288 with 1 Axes>"
      ]
     },
     "metadata": {
      "needs_background": "light"
     },
     "output_type": "display_data"
    }
   ],
   "source": [
    "from math import pi\n",
    "\n",
    "arr = np.linspace(0, 2*pi, 100)\n",
    "\n",
    "e10 = arr[9::10] # extract every 10th element\n",
    "rev = arr[::-1]  # reversed array\n",
    "ext = arr[ abs(np.sin(arr) - np.cos(arr)) < 0.1 ]\n",
    "\n",
    "plt.plot(arr,np.sin(arr), label='sine')\n",
    "plt.plot(ext,np.zeros(len(ext)),'ro', label='closeness')\n",
    "plt.plot(arr,np.cos(arr), label='cosine')\n",
    "plt.legend(loc=\"lower left\")\n",
    "plt.show()"
   ]
  },
  {
   "cell_type": "markdown",
   "metadata": {},
   "source": [
    "### 5\\. Create a matrix that shows the 10 by 10 multiplication table.\n",
    "\n",
    " * Find the trace of the matrix\n",
    " * Extract the anto-diagonal (this should be ```array([10, 18, 24, 28, 30, 30, 28, 24, 18, 10])```)\n",
    " * Extract the diagnoal offset by 1 upwards (this should be ```array([ 2,  6, 12, 20, 30, 42, 56, 72, 90])```)"
   ]
  },
  {
   "cell_type": "code",
   "execution_count": 8,
   "metadata": {},
   "outputs": [
    {
     "name": "stdout",
     "output_type": "stream",
     "text": [
      "multiplication table:\n",
      " [[  1   2   3   4   5   6   7   8   9  10]\n",
      " [  2   4   6   8  10  12  14  16  18  20]\n",
      " [  3   6   9  12  15  18  21  24  27  30]\n",
      " [  4   8  12  16  20  24  28  32  36  40]\n",
      " [  5  10  15  20  25  30  35  40  45  50]\n",
      " [  6  12  18  24  30  36  42  48  54  60]\n",
      " [  7  14  21  28  35  42  49  56  63  70]\n",
      " [  8  16  24  32  40  48  56  64  72  80]\n",
      " [  9  18  27  36  45  54  63  72  81  90]\n",
      " [ 10  20  30  40  50  60  70  80  90 100]]\n",
      "trace: 385\n",
      "antidiagonal: [10 18 24 28 30 30 28 24 18 10]\n",
      "antidiagonal with offset: [ 2  6 12 20 30 42 56 72 90]\n"
     ]
    }
   ],
   "source": [
    "line = np.arange(10) + 1\n",
    "by10 = np.outer(line, line)\n",
    "print('multiplication table:\\n', by10)\n",
    "print('trace:', np.trace(by10) )\n",
    "print('antidiagonal:', np.fliplr(by10).diagonal() )\n",
    "print('antidiagonal with offset:', by10.diagonal(offset = 1) )"
   ]
  },
  {
   "cell_type": "markdown",
   "metadata": {},
   "source": [
    "### 6\\. Use broadcasting to create a grid of distances\n",
    "\n",
    "Route 66 crosses the following cities in the US: Chicago, Springfield, Saint-Louis, Tulsa, Oklahoma City, Amarillo, Santa Fe, Albuquerque, Flagstaff, Los Angeles\n",
    "The corresponding positions in miles are: 0, 198, 303, 736, 871, 1175, 1475, 1544, 1913, 2448\n",
    "\n",
    "  * Construct a 2D grid of distances among each city along Route 66\n",
    "  * Convert that in km (those savages...)"
   ]
  },
  {
   "cell_type": "code",
   "execution_count": 9,
   "metadata": {},
   "outputs": [
    {
     "name": "stdout",
     "output_type": "stream",
     "text": [
      "[[   0.   318.7  487.6 1184.5 1401.7 1891.  2373.8 2484.8 3078.7 3939.7]\n",
      " [ 318.7    0.   169.   865.8 1083.1 1572.3 2055.1 2166.2 2760.  3621. ]\n",
      " [ 487.6  169.     0.   696.8  914.1 1403.3 1886.2 1997.2 2591.  3452. ]\n",
      " [1184.5  865.8  696.8    0.   217.3  706.5 1189.3 1300.3 1894.2 2755.2]\n",
      " [1401.7 1083.1  914.1  217.3    0.   489.2  972.  1083.1 1676.9 2537.9]\n",
      " [1891.  1572.3 1403.3  706.5  489.2    0.   482.8  593.8 1187.7 2048.7]\n",
      " [2373.8 2055.1 1886.2 1189.3  972.   482.8    0.   111.   704.9 1565.9]\n",
      " [2484.8 2166.2 1997.2 1300.3 1083.1  593.8  111.     0.   593.8 1454.8]\n",
      " [3078.7 2760.  2591.  1894.2 1676.9 1187.7  704.9  593.8    0.   861. ]\n",
      " [3939.7 3621.  3452.  2755.2 2537.9 2048.7 1565.9 1454.8  861.     0. ]]\n"
     ]
    }
   ],
   "source": [
    "route66 = np.array( [0, 198, 303, 736, 871, 1175, 1475, 1544, 1913, 2448 ] )\n",
    "\n",
    "grid = abs(np.atleast_2d(route66).T - route66)\n",
    "grid_km = 1.609344 * grid\n",
    "\n",
    "with np.printoptions(precision=1, suppress=True):  # i decided to print with one decimal place\n",
    "    print(grid_km)"
   ]
  },
  {
   "cell_type": "markdown",
   "metadata": {},
   "source": [
    "### 7\\. Prime numbers sieve: compute the prime numbers in the 0-N (N=99 to start with) range with a sieve (mask).\n",
    "  * Constract a shape (100,) boolean array, the mask\n",
    "  * Identify the multiples of each number starting from 2 and set accordingly the corresponding mask element\n",
    "  * Apply the mask to obtain an array of ordered prime numbers\n",
    "  * Check the performances (timeit); how does it scale with N?\n",
    "  * Implement the optimization suggested in the [sieve of Eratosthenes](https://en.wikipedia.org/wiki/Sieve_of_Eratosthenes)"
   ]
  },
  {
   "cell_type": "code",
   "execution_count": 21,
   "metadata": {},
   "outputs": [
    {
     "name": "stdout",
     "output_type": "stream",
     "text": [
      "[ 2  3  5  7 11 13 17 19 23 29 31 37 41 43 47 53 59 61 67 71 73 79 83 89\n",
      " 97]\n"
     ]
    }
   ],
   "source": [
    "def sieve(N):\n",
    "    mask = np.ones((N,), dtype=bool)\n",
    "    mask[0] = False\n",
    "    for i in range(2,N):\n",
    "        mask[2*i-1::i] = False\n",
    "    return np.arange(1,N+1)[mask]\n",
    "\n",
    "n = 100\n",
    "print( sieve(n) ) # prints prime numbers in range 2-n"
   ]
  },
  {
   "cell_type": "code",
   "execution_count": 16,
   "metadata": {},
   "outputs": [
    {
     "name": "stdout",
     "output_type": "stream",
     "text": [
      "62 µs ± 1.43 µs per loop (mean ± std. dev. of 7 runs, 10000 loops each)\n",
      "89.7 µs ± 20.3 µs per loop (mean ± std. dev. of 7 runs, 10000 loops each)\n",
      "111 µs ± 817 ns per loop (mean ± std. dev. of 7 runs, 10000 loops each)\n",
      "148 µs ± 1.05 µs per loop (mean ± std. dev. of 7 runs, 10000 loops each)\n",
      "186 µs ± 926 ns per loop (mean ± std. dev. of 7 runs, 10000 loops each)\n",
      "372 µs ± 1.67 µs per loop (mean ± std. dev. of 7 runs, 1000 loops each)\n",
      "740 µs ± 3.42 µs per loop (mean ± std. dev. of 7 runs, 1000 loops each)\n"
     ]
    }
   ],
   "source": [
    "# PN: testing with more values ( TIME CONSUMING )\n",
    "%timeit sieve(n)\n",
    "%timeit sieve(n*2)\n",
    "%timeit sieve(n*3)\n",
    "%timeit sieve(n*4)\n",
    "%timeit sieve(n*5)\n",
    "%timeit sieve(n*10)\n",
    "%timeit sieve(n*20)"
   ]
  },
  {
   "cell_type": "markdown",
   "metadata": {},
   "source": [
    "Please note: **the previous section takes a while** to compute the average time... As a reference, in my tests I got as output:\n",
    "- 62.9 µs ± 603 ns for n\n",
    "- 89.9 µs ± 19.4 µs for 2n\n",
    "- 114 µs ± 1.02 µs for 3n\n",
    "- 153 µs ± 939 ns for 4n\n",
    "- 190 µs ± 895 ns for 5n\n",
    "- 400 µs ± 7.03 µs for 10n\n",
    "- 740 µs ± 3.42 µs for 20n\n",
    "\n",
    "Let us plot the previous results:"
   ]
  },
  {
   "cell_type": "code",
   "execution_count": 22,
   "metadata": {},
   "outputs": [
    {
     "data": {
      "image/png": "[encoded data removed]",
      "text/plain": [
       "<Figure size 432x288 with 1 Axes>"
      ]
     },
     "metadata": {
      "needs_background": "light"
     },
     "output_type": "display_data"
    }
   ],
   "source": [
    "x = np.array([1,2,3,4,5,10,20]) #n of iterations\n",
    "y = np.array([62.9,89.9,114,153,190,400,740]) # time\n",
    "plt.plot(x*n,y)\n",
    "plt.xlabel(\"n\"); plt.ylabel(\"time [\\mu s]\");\n",
    "plt.show()"
   ]
  },
  {
   "cell_type": "markdown",
   "metadata": {},
   "source": [
    "By analyzing the graph, It seems that the computation time increases almost linearly with respect to n. A small deviation for smaller values of n cannot be excluded."
   ]
  },
  {
   "cell_type": "code",
   "execution_count": 23,
   "metadata": {},
   "outputs": [
    {
     "name": "stdout",
     "output_type": "stream",
     "text": [
      "[ 2  3  5  7 11 13 17 19 23 29 31 37 41 43 47 53 59 61 67 71 73 79 83 89\n",
      " 97]\n"
     ]
    }
   ],
   "source": [
    "def opti_sieve(N): # from pseudocode in Wikipedia\n",
    "    A = np.ones((N,), dtype=bool)\n",
    "    A[0] = False\n",
    "    for i in range(2, round(np.sqrt(N))):\n",
    "        if A[i-1]:\n",
    "            A[((i*i)-1):N:i] = False\n",
    "    return np.arange(1,N+1)[A]\n",
    "\n",
    "print( opti_sieve(n) )"
   ]
  },
  {
   "cell_type": "markdown",
   "metadata": {},
   "source": [
    "**N.B. the following exercises are meant to be solved only if you are familiar with the numpy random library. If not you can skip them (postponed for one of the next exercise sessions)**\n"
   ]
  },
  {
   "cell_type": "markdown",
   "metadata": {},
   "source": [
    "### 8\\. Diffusion using random walk\n",
    "\n",
    "Consider a simple random walk process: at each step in time, a walker jumps right or left (+1 or -1) with equal probability. The goal is to find the typical distance from the origin of a random walker after a given amount of time. \n",
    "To do that, let's simulate many walkers and create a 2D array with each walker as a row and the actual time evolution as columns.\n",
    "\n",
    "  * Take 1000 walkers and let them walk for 200 steps\n",
    "  * Use randint to create a 2D array of size walkers x steps with values -1 or 1\n",
    "  * Build the actual walking distances for each walker (i.e. another 2D array \"summing on each row\")\n",
    "  * Take the square of that 2D array (elementwise)\n",
    "  * Compute the mean of the squared distances at each step (i.e. the mean along the columns)\n",
    "  * Plot the average distances (sqrt(distance\\*\\*2)) as a function of time (step)\n",
    "  \n",
    "Did you get what you expected?"
   ]
  },
  {
   "cell_type": "code",
   "execution_count": 29,
   "metadata": {},
   "outputs": [
    {
     "data": {
      "image/png": "[encoded data removed]",
      "text/plain": [
       "<Figure size 432x288 with 1 Axes>"
      ]
     },
     "metadata": {
      "needs_background": "light"
     },
     "output_type": "display_data"
    }
   ],
   "source": [
    "# 2D array - row: the walkers (1000), columns: time evolution (200)\n",
    "walkers, steps = 1000, 200\n",
    "\n",
    "m = np.random.randint(2, size=(walkers,steps))\n",
    "m[m==0] = -1      # now m is an array of 1 and -1\n",
    "\n",
    "wd  = np.cumsum(m, axis=1) # array of walking distances\n",
    "wd2 = wd**2                # square of walking distances\n",
    "msd = np.mean(wd2, axis=0) # mean on the columns\n",
    "\n",
    "# plot\n",
    "plt.xlabel(\"steps\")\n",
    "plt.ylabel(\"mean walking distance\")\n",
    "plt.plot(np.sqrt(msd), label='simulated')\n",
    "plt.plot(np.sqrt(np.arange(steps)), label='theoretical', alpha=0.4)\n",
    "plt.legend(loc=\"upper left\")\n",
    "plt.show()"
   ]
  },
  {
   "cell_type": "markdown",
   "metadata": {},
   "source": [
    "The results show that the simulated walking distance follows the theoretical prediction $d=\\sqrt(n)$."
   ]
  },
  {
   "cell_type": "markdown",
   "metadata": {},
   "source": [
    "### 9\\. Analyze a data file \n",
    "  * Download the population of hares, lynxes and carrots at the beginning of the last century.\n",
    "    ```python\n",
    "    ! wget https://www.dropbox.com/s/3vigxoqayo389uc/populations.txt\n",
    "    ```\n",
    "\n",
    "  * Check the content by looking within the file\n",
    "  * Load the data (use an appropriate numpy method) into a 2D array\n",
    "  * Create arrays out of the columns, the arrays being (in order): *year*, *hares*, *lynxes*, *carrots* \n",
    "  * Plot the 3 populations over the years\n",
    "  * Compute the main statistical properties of the dataset (mean, std, correlations, etc.)\n",
    "  * Which species has the highest population each year?\n",
    "\n",
    "Do you feel there is some evident correlation here? [Studies](https://www.enr.gov.nt.ca/en/services/lynx/lynx-snowshoe-hare-cycle) tend to believe so."
   ]
  },
  {
   "cell_type": "code",
   "execution_count": 69,
   "metadata": {},
   "outputs": [
    {
     "data": {
      "image/png": "[encoded data removed]",
      "text/plain": [
       "<Figure size 432x288 with 1 Axes>"
      ]
     },
     "metadata": {
      "needs_background": "light"
     },
     "output_type": "display_data"
    },
    {
     "name": "stdout",
     "output_type": "stream",
     "text": [
      "population: hares\n",
      "mean 34080.95238095238, std 20897.906458089667\n",
      "\n",
      "population: lynxes\n",
      "mean 20166.666666666668, std 16254.591536908763\n",
      "\n",
      "population: carrots\n",
      "mean 42400.0, std 3322.5062255844787\n",
      "\n",
      "year 1900, the highest population is carrots\n",
      "year 1901, the highest population is carrots\n",
      "year 1902, the highest population is hares\n",
      "year 1903, the highest population is hares\n",
      "year 1904, the highest population is lynxes\n",
      "year 1905, the highest population is lynxes\n",
      "year 1906, the highest population is carrots\n",
      "year 1907, the highest population is carrots\n",
      "year 1908, the highest population is carrots\n",
      "year 1909, the highest population is carrots\n",
      "year 1910, the highest population is carrots\n",
      "year 1911, the highest population is carrots\n",
      "year 1912, the highest population is hares\n",
      "year 1913, the highest population is hares\n",
      "year 1914, the highest population is hares\n",
      "year 1915, the highest population is lynxes\n",
      "year 1916, the highest population is carrots\n",
      "year 1917, the highest population is carrots\n",
      "year 1918, the highest population is carrots\n",
      "year 1919, the highest population is carrots\n",
      "year 1920, the highest population is carrots\n"
     ]
    }
   ],
   "source": [
    "content = np.loadtxt('populations.txt')\n",
    "\n",
    "#selecting data from the file\n",
    "years = content[..., 0].astype(int)\n",
    "species = {\n",
    "  \"hares\": content[..., 1],\n",
    "  \"lynxes\": content[..., 2],\n",
    "  \"carrots\": content[..., 3] }\n",
    "species_keys = list(species.keys())\n",
    "\n",
    "# plot the populations\n",
    "plt.plot(years, species['hares'], label='hares')\n",
    "plt.plot(years, species['lynxes'], label='lynxes')\n",
    "plt.plot(years, species['carrots'], label='carrots')\n",
    "plt.xticks(years[::2], rotation=45)\n",
    "plt.legend(loc=\"upper right\")\n",
    "plt.show()\n",
    "\n",
    "# compute some statitics\n",
    "for pid in species_keys:\n",
    "    print(f'population: {pid}');    d = species[pid];\n",
    "    print(f'mean {np.mean(d)}, std {np.std(d)}\\n')\n",
    "\n",
    "# finding the highest population every year\n",
    "for c, y in zip(content[...,1:], years):\n",
    "    print(f'year {y}, the highest population is {species_keys[np.argmax(c)]}')\n",
    "    # accessing through 'content' is more advantageous, since it is row-indexed"
   ]
  },
  {
   "cell_type": "markdown",
   "metadata": {},
   "source": [
    "The plot shows that the populations of hares and lynxes follow a common trend, with periods of cycling growth and decline. The trend is just shifted of $1$ year between hares and lynxes. As the population of hares grows, for instance through the years 1900-1903, the population of lynxes grows until 1904. As stated in the linked source, the correlation between the population is explainable in terms of predator-prey balance through a cycle of 8-11 years. Instead, the population of carrots keeps approximately a constant value of $42400 \\pm 3300$ individuals."
   ]
  },
  {
   "cell_type": "markdown",
   "metadata": {},
   "source": [
    "End of file."
   ]
  }
 ],
 "metadata": {
  "kernelspec": {
   "display_name": "Python 3 (ipykernel)",
   "language": "python",
   "name": "python3"
  },
  "language_info": {
   "codemirror_mode": {
    "name": "ipython",
    "version": 3
   },
   "file_extension": ".py",
   "mimetype": "text/x-python",
   "name": "python",
   "nbconvert_exporter": "python",
   "pygments_lexer": "ipython3",
   "version": "3.9.7"
  }
 },
 "nbformat": 4,
 "nbformat_minor": 4
}
