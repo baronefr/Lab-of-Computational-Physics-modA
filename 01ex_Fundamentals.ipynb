{
 "cells": [
  {
   "cell_type": "markdown",
   "metadata": {
    "tags": []
   },
   "source": [
    "# Lab of computational physics - EXR01\n",
    "\n",
    "#### Barone Francesco Pio, AY 2021/22 UniPD"
   ]
  },
  {
   "cell_type": "markdown",
   "metadata": {},
   "source": [
    "### 1\\. Write the following as a list comprehension"
   ]
  },
  {
   "cell_type": "code",
   "execution_count": 1,
   "metadata": {},
   "outputs": [
    {
     "name": "stdout",
     "output_type": "stream",
     "text": [
      "[(0, 0), (0, 1), (0, 2), (0, 3), (1, 0), (1, 1), (1, 2), (1, 3), (2, 0), (2, 1), (2, 2), (2, 3)]\n",
      "[0, 4, 16]\n"
     ]
    }
   ],
   "source": [
    "# 1\n",
    "ans = []\n",
    "for i in range(3):\n",
    "    for j in range(4):\n",
    "        ans.append((i, j))\n",
    "print (ans)\n",
    "\n",
    "# 2\n",
    "ans = map(lambda x: x*x, filter(lambda x: x%2 == 0, range(5)))\n",
    "print (list(ans))"
   ]
  },
  {
   "cell_type": "code",
   "execution_count": 2,
   "metadata": {},
   "outputs": [
    {
     "name": "stdout",
     "output_type": "stream",
     "text": [
      "[(0, 0), (0, 1), (0, 2), (0, 3), (1, 0), (1, 1), (1, 2), (1, 3), (2, 0), (2, 1), (2, 2), (2, 3)]\n",
      "[0, 4, 16]\n"
     ]
    }
   ],
   "source": [
    "# 1 as a list comprehension\n",
    "print(  [ (i, j) for i in range(3) for j in range(4) ]  )\n",
    "\n",
    "# 2 as a list comprehension\n",
    "print( [ x*x for x in range(5) if (x%2 == 0) ] )"
   ]
  },
  {
   "cell_type": "markdown",
   "metadata": {},
   "source": [
    "### 2\\. Convert the following function into a pure function with no global variables or side effects"
   ]
  },
  {
   "cell_type": "code",
   "execution_count": 3,
   "metadata": {},
   "outputs": [
    {
     "name": "stdout",
     "output_type": "stream",
     "text": [
      "[1, 2, 3, 0, 1, 2, 3, 4]\n",
      "[1, 2, 3, 0, 1, 2, 3, 4]\n"
     ]
    }
   ],
   "source": [
    "x = 5\n",
    "def f(alist):\n",
    "    for i in range(x):\n",
    "         alist.append(i)\n",
    "    return alist\n",
    "\n",
    "alist = [1,2,3]\n",
    "ans = f(alist)\n",
    "print (ans)\n",
    "print (alist) # please note: alist has been changed!\n",
    "\n",
    "del x, alist, ans"
   ]
  },
  {
   "cell_type": "code",
   "execution_count": 4,
   "metadata": {},
   "outputs": [
    {
     "name": "stdout",
     "output_type": "stream",
     "text": [
      "[1, 2, 3, 0, 1, 2, 3, 4]\n",
      "[1, 2, 3]\n"
     ]
    }
   ],
   "source": [
    "f = lambda i, lst : lst + [ k for k in range(i) ] \n",
    "\n",
    "x = 5\n",
    "alist = [1,2,3]\n",
    "ans = f(x, alist)\n",
    "print (ans)\n",
    "print (alist) # please note: this will not change!"
   ]
  },
  {
   "cell_type": "markdown",
   "metadata": {
    "tags": []
   },
   "source": [
    "### 3\\. Write a `decorator` hello ...\n",
    "... that makes every wrapped function print “Hello!”, i.e. something like:\n",
    "\n",
    "```python\n",
    "@hello\n",
    "def square(x):\n",
    "    return x*x\n",
    "```\n",
    "\n"
   ]
  },
  {
   "cell_type": "code",
   "execution_count": 5,
   "metadata": {},
   "outputs": [
    {
     "name": "stdout",
     "output_type": "stream",
     "text": [
      "Hello!\n",
      "9\n",
      "Hello!\n",
      "27\n"
     ]
    }
   ],
   "source": [
    "def myhello(f):\n",
    "    def wrapper(*args, **kwargs):\n",
    "        print(\"Hello!\")\n",
    "        return f(*args, **kwargs)\n",
    "    return wrapper\n",
    "\n",
    "@myhello\n",
    "def square(x):\n",
    "    return x*x\n",
    "\n",
    "@myhello\n",
    "def cube(x):\n",
    "    return x*x*x\n",
    "\n",
    "print( square(3) )\n",
    "print( cube(3) )"
   ]
  },
  {
   "cell_type": "markdown",
   "metadata": {},
   "source": [
    "### 4\\. Write the factorial function ...\n",
    "... so that it a) does and b) does not use recursion."
   ]
  },
  {
   "cell_type": "code",
   "execution_count": 6,
   "metadata": {},
   "outputs": [
    {
     "name": "stdout",
     "output_type": "stream",
     "text": [
      "28657\n",
      "28657\n"
     ]
    }
   ],
   "source": [
    "def recursive_fib(n):\n",
    "    if n<2:\n",
    "        return 1\n",
    "    else:\n",
    "        return recursive_fib(n-1) + recursive_fib(n-2)\n",
    "\n",
    "def unrecursive_fib(n):\n",
    "    x, y = 0, 1\n",
    "    for i in range(1, n+1):\n",
    "        x, y = y, x+y\n",
    "    return y\n",
    "\n",
    "print( recursive_fib(22) )\n",
    "print( unrecursive_fib(22) )"
   ]
  },
  {
   "cell_type": "markdown",
   "metadata": {},
   "source": [
    "### 5\\. Use HOFs (zip in particular)...\n",
    "... to compute the weight of a circle, a disk and a sphere, assuming different radii and different densities:\n",
    "\n",
    "```python\n",
    "densities = {\"Al\":[0.5,1,2],\"Fe\":[3,4,5],\"Pb\": [15,20,30]}\n",
    "radii = [1,2,3]\n",
    "```\n",
    "\n",
    "where the entries of the dictionary's values are the linear, superficial and volumetric densities of the materials respectively.\n",
    "\n",
    "In particular define a list of three lambda functions using a comprehension that computes the circumference, the area and the volume for a given radius.\n"
   ]
  },
  {
   "cell_type": "code",
   "execution_count": 7,
   "metadata": {},
   "outputs": [
    {
     "name": "stdout",
     "output_type": "stream",
     "text": [
      "element: Al\n",
      "  3.141592653589793\n",
      "  100.53096491487338\n",
      "  226.19467105846508\n",
      "element: Fe\n",
      "  18.84955592153876\n",
      "  402.1238596594935\n",
      "  565.4866776461627\n",
      "element: Pb\n",
      "  94.24777960769379\n",
      "  2010.6192982974676\n",
      "  3392.9200658769764\n"
     ]
    }
   ],
   "source": [
    "from math import pi\n",
    "\n",
    "# given arrays\n",
    "densities = {\"Al\":[0.5,1,2],\"Fe\":[3,4,5],\"Pb\": [15,20,30]}\n",
    "radii = [1,2,3]\n",
    "\n",
    "# defining the list of functions\n",
    "expos = [ lambda r: r**(n+1) for n in range(3) ]\n",
    "coeff = [ 2, 4, 4/3 ]\n",
    "\n",
    "for element in densities:\n",
    "    print('element:', element)\n",
    "    for d, r, f, c in zip( densities.get(element), radii, expos, coeff):\n",
    "        print(' ', d * c * pi* f(r) )"
   ]
  },
  {
   "cell_type": "markdown",
   "metadata": {},
   "source": [
    "### 6\\. Edit the class definition ...\n",
    "... to add an instance attribute of is_hungry = True to the Dog class. Then add a method called eat() which changes the value of is_hungry to False when called. Figure out the best way to feed each dog and then output “My dogs are hungry.” if all are hungry or “My dogs are not hungry.” if all are not hungry. The final output should look like this:\n",
    "\n",
    "`I have 3 dogs. \n",
    "Tom is 6. \n",
    "Fletcher is 7. \n",
    "Larry is 9. \n",
    "And they're all mammals, of course. \n",
    "My dogs are not hungry.\n",
    "`\n",
    "\n",
    "```python\n",
    "# Parent class\n",
    "class Dog:\n",
    "\n",
    "    # Class attribute\n",
    "    species = 'mammal'\n",
    "\n",
    "    # Initializer / Instance attributes\n",
    "    def __init__(self, name, age):\n",
    "        self.name = name\n",
    "        self.age = age\n",
    "\n",
    "    # instance method\n",
    "    def description(self):\n",
    "        return \"{} is {} years old\".format(self.name, self.age)\n",
    "\n",
    "    # instance method\n",
    "    def speak(self, sound):\n",
    "        return \"{} says {}\".format(self.name, sound)\n",
    "\n",
    "# Child class (inherits from Dog class)\n",
    "class RussellTerrier(Dog):\n",
    "    def run(self, speed):\n",
    "        return \"{} runs {}\".format(self.name, speed)\n",
    "\n",
    "# Child class (inherits from Dog class)\n",
    "class Bulldog(Dog):\n",
    "    def run(self, speed):\n",
    "        return \"{} runs {}\".format(self.name, speed)\n",
    "```"
   ]
  },
  {
   "cell_type": "code",
   "execution_count": 8,
   "metadata": {},
   "outputs": [
    {
     "name": "stdout",
     "output_type": "stream",
     "text": [
      "I have 3 dogs.\n",
      "Tom is 6.\n",
      "Fletcher is 7.\n",
      "Larry is 9.\n",
      "And they're all mammals, of course.\n",
      "My dogs are not hungry.\n"
     ]
    }
   ],
   "source": [
    "class Dog:\n",
    "    species = 'mammal'\n",
    "    is_hungry = True\n",
    "\n",
    "    def __init__(self, name, age):\n",
    "        self.name = name\n",
    "        self.age = age\n",
    "\n",
    "    def description(self):\n",
    "        return \"{} is {} years old\".format(self.name, self.age)\n",
    "\n",
    "    def speak(self, sound):\n",
    "        return \"{} says {}\".format(self.name, sound)\n",
    "    \n",
    "    def eat(self):\n",
    "        self.is_hungry = False\n",
    "\n",
    "\"\"\"\n",
    "# Child class\n",
    "class RussellTerrier(Dog):\n",
    "    def run(self, speed):\n",
    "        return \"{} runs {}\".format(self.name, speed)\n",
    "\n",
    "# Child class\n",
    "class Bulldog(Dog):\n",
    "    def run(self, speed):\n",
    "        return \"{} runs {}\".format(self.name, speed)\n",
    "\"\"\"\n",
    "\n",
    "class owner:\n",
    "    dogs = []\n",
    "    \n",
    "    def __init__(self, names, ages):\n",
    "        for n, a in zip(names, ages):\n",
    "            self.dogs.append( Dog(n,a))\n",
    "    \n",
    "    def add_dog(self, name, age):\n",
    "        self.dogs.append(Dog(n,a))\n",
    "            \n",
    "    def feed_dogs(self):\n",
    "        for dog in self.dogs:\n",
    "            dog.eat()\n",
    "            \n",
    "    def list_dogs(self):\n",
    "        print(f'I have {len(self.dogs)} dogs.')\n",
    "        are_mammals = True\n",
    "        for dog in self.dogs:\n",
    "            print(f'{dog.name} is {dog.age}.')\n",
    "            if dog.species != 'mammal':\n",
    "                are_mammals = False\n",
    "        if are_mammals:\n",
    "            print(\"And they\\'re all mammals, of course.\")\n",
    "\n",
    "    def check_if_hungry(self):\n",
    "        nof_hungry = 0\n",
    "        for dog in self.dogs:\n",
    "            if dog.is_hungry:\n",
    "                nof_hungry += 1\n",
    "        if nof_hungry == 0:\n",
    "            print(\"My dogs are not hungry.\")\n",
    "        elif nof_hungry == len(dogs):\n",
    "            print(\"My dogs are hungry.\")\n",
    "        # PN: should also define the case in which not all the dogs are hungry...\n",
    "\n",
    "\n",
    "dog_names = ['Tom', 'Fletcher', 'Larry']\n",
    "dog_ages = [6, 7, 9]\n",
    "\n",
    "me = owner( dog_names, dog_ages )\n",
    "\n",
    "me.list_dogs()\n",
    "me.feed_dogs()  # if commented, the next command will print 'My dogs are hungry.'\n",
    "me.check_if_hungry()"
   ]
  },
  {
   "cell_type": "markdown",
   "metadata": {},
   "source": [
    "End of file."
   ]
  }
 ],
 "metadata": {
  "kernelspec": {
   "display_name": "Python 3 (ipykernel)",
   "language": "python",
   "name": "python3"
  },
  "language_info": {
   "codemirror_mode": {
    "name": "ipython",
    "version": 3
   },
   "file_extension": ".py",
   "mimetype": "text/x-python",
   "name": "python",
   "nbconvert_exporter": "python",
   "pygments_lexer": "ipython3",
   "version": "3.9.7"
  }
 },
 "nbformat": 4,
 "nbformat_minor": 4
}
