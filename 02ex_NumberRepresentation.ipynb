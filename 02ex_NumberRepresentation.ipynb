{
 "cells": [
  {
   "cell_type": "markdown",
   "metadata": {
    "tags": []
   },
   "source": [
    "# Lab of computational physics - EXR02\n",
    "#### Barone Francesco Pio, AY 2021/22 UniPD"
   ]
  },
  {
   "cell_type": "markdown",
   "metadata": {
    "tags": []
   },
   "source": [
    "### 1. Write a function that converts number representation (bin<->dec<->hex)"
   ]
  },
  {
   "cell_type": "code",
   "execution_count": 1,
   "metadata": {},
   "outputs": [],
   "source": [
    "# this function takes a single char and maps it to int representation:\n",
    "#   (char) '1' ->  1  (int)\n",
    "#          ...\n",
    "#          '9' ->  9\n",
    "#          'a' ->  10 (int)\n",
    "#          ...\n",
    "#          'z' ->  35\n",
    "def interpret_char(ch):\n",
    "    try: return int(ch)\n",
    "    except: return int(ord(ch) - ord('a') + 10)\n",
    "\n",
    "# this function takes an int value and maps it to char representation:\n",
    "#   (int) 1  -> '1'  (char)   ...    9  -> '9'\n",
    "#         10 -> 'a'      ...         35 -> 'z'\n",
    "def interpret_module(mod):\n",
    "    if mod>9: return chr(mod + ord('a') - 10)\n",
    "    return str(mod)\n",
    "\n",
    "# this function takes an input string, reads it according to a base representation\n",
    "#  and finally returns the number (! without the sign and identifier)\n",
    "def read_base_string(stri, base):\n",
    "    number = 0\n",
    "    stri_len = len(stri) - 1\n",
    "    for i in range(0, stri_len +1):\n",
    "        # print(' reading', i, stri[i], interpret_char(stri[i]))\n",
    "        number += interpret_char(stri[i]) * (base**(stri_len-i))\n",
    "    return number\n",
    "\n",
    "# this functions converts a number to the corresponding string representation\n",
    "#  in a given base (! without the sign and identifier)\n",
    "def number_to_representation(number, base):\n",
    "    string = ''\n",
    "    while number:\n",
    "        string = interpret_module(number%base) + string\n",
    "        number = number//base\n",
    "    return string\n",
    "\n",
    "# this function takes an input string and converts the representation to\n",
    "#  a given target: bin, dec or hex.\n",
    "def convert(stri, target):\n",
    "    stri = stri.replace(\" \", \"\")  # removing all spaces in the string\n",
    "    stri = stri.lower()           # using only lowercased letters\n",
    "    if stri[0] == '-': sign_isnegative = True\n",
    "    else: sign_isnegative = False\n",
    "    stri = stri.replace(\"-\", \"\");   stri = stri.replace(\"+\", \"\");\n",
    "    \n",
    "    if stri.startswith('0b'): # the input string represents a binary number\n",
    "        number = (1 if stri[0] == '0' else -1) * read_base_string(stri[2:],2)\n",
    "    elif stri.startswith('0x'): # the input string represents a hex number\n",
    "        number = (1 if stri[0] == '0' else -1) * read_base_string(stri[2:],16)\n",
    "    else: # the input string must be decimal\n",
    "        number = read_base_string(stri,10)\n",
    "\n",
    "    # print(' number in memory:', number)\n",
    "    \n",
    "    if target == 'dec':      out = number_to_representation(abs(number), 10)\n",
    "    elif target == 'bin':    out = '0b' + number_to_representation(abs(number), 2)\n",
    "    elif target == 'hex':    out = '0x' + number_to_representation(abs(number), 16)\n",
    "    else:\n",
    "        print('invalid target format')\n",
    "        return 0\n",
    "    \n",
    "    return ('-' if sign_isnegative else '') + out"
   ]
  },
  {
   "cell_type": "markdown",
   "metadata": {},
   "source": [
    "To test the previous functions, let us see their behaviour for known number representations.\n",
    "\n",
    "| dec | bin | hex |\n",
    "| --- | --- | --- |\n",
    "| -23 | -0b10111 | -0x17 |\n",
    "| 1233454 | 0b0b100101101001000101110 | 0x12d22e |"
   ]
  },
  {
   "cell_type": "code",
   "execution_count": 2,
   "metadata": {},
   "outputs": [
    {
     "name": "stdout",
     "output_type": "stream",
     "text": [
      "-23\n",
      "0x12d22e\n",
      "0b10111\n"
     ]
    }
   ],
   "source": [
    "print(convert('-0b10111','dec'))   # expected  -23\n",
    "print(convert('1233454','hex'))    # expected  0b100101101001000101110\n",
    "print(convert('0x17','bin'))       # expected  0b10111"
   ]
  },
  {
   "cell_type": "markdown",
   "metadata": {
    "tags": []
   },
   "source": [
    "### 2. Write a function that converts a 32 bit word into a single precision floating point (i.e. interprets the various bits as sign, mantissa and exponent)"
   ]
  },
  {
   "cell_type": "code",
   "execution_count": 3,
   "metadata": {},
   "outputs": [],
   "source": [
    "def read_32bit_word(stri):\n",
    "    # configuration of the function: for 32 bits use nbit_exponent, nbit_mantissa, bias = 8, 23, 127\n",
    "    nbit_exponent, nbit_mantissa, bias = 8, 23, 127\n",
    "    \n",
    "    stri = stri.replace(\" \", \"\")  # removing all spaces in the string\n",
    "    nbit_exponent += 1;   mantissa, n = 1, 1;\n",
    "    exponent = read_base_string(stri[1:nbit_exponent], 2)\n",
    "    for i in stri[nbit_exponent:nbit_exponent+nbit_mantissa]:\n",
    "        mantissa += (1 if i == '1' else 0) * (2**-n)\n",
    "        n = n + 1\n",
    "    print('exponent:', exponent,', mantissa:', mantissa)\n",
    "    return (1 if stri[0]=='0' else -1) * (2**(exponent-bias)) * mantissa"
   ]
  },
  {
   "cell_type": "code",
   "execution_count": 4,
   "metadata": {},
   "outputs": [
    {
     "name": "stdout",
     "output_type": "stream",
     "text": [
      "exponent: 7 , mantissa: 1.75\n",
      "1.316553672920962e-36\n"
     ]
    }
   ],
   "source": [
    "print( read_32bit_word('0 00000111 11000000000000000000000') )"
   ]
  },
  {
   "cell_type": "markdown",
   "metadata": {
    "tags": []
   },
   "source": [
    "### 3. Write a program to determine the underflow and overflow limits (within a factor of 2) for python on your computer\n",
    "\n",
    "**Tips**: define two variables inizialized to 1 and halve/double them enough time to exceed the under/over-flow limits  "
   ]
  },
  {
   "cell_type": "code",
   "execution_count": 5,
   "metadata": {},
   "outputs": [
    {
     "name": "stdout",
     "output_type": "stream",
     "text": [
      "upper limit: 8.98846567431158e+307 , lower limit: 5e-324\n"
     ]
    }
   ],
   "source": [
    "up, down = 1.0, 1.0\n",
    "while up*2 != float(\"+inf\"): up *= 2\n",
    "while down/2 != 0: down /= 2\n",
    "print('upper limit:', up,', lower limit:', down)"
   ]
  },
  {
   "cell_type": "markdown",
   "metadata": {
    "tags": []
   },
   "source": [
    "### 4. Write a program to determine the machine precision\n",
    "\n",
    "**Tips**: define a new variable by adding a smaller and smaller value (proceeding similarly to prob. 2) to an original variable and check the point where the two are the same "
   ]
  },
  {
   "cell_type": "code",
   "execution_count": 6,
   "metadata": {},
   "outputs": [],
   "source": [
    "def determine_precision(var = 1.):\n",
    "    tmp, count = 0, 0\n",
    "    while var != tmp:\n",
    "        count += 1\n",
    "        tmp = var + 10**(-count)\n",
    "    return 1-count"
   ]
  },
  {
   "cell_type": "code",
   "execution_count": 7,
   "metadata": {},
   "outputs": [
    {
     "name": "stdout",
     "output_type": "stream",
     "text": [
      "precision is up to 10 ^ -15\n",
      "in fact, 1.0 is different from 1.000000000000001 = 1.0 + 10^ -15\n",
      " but 1.0 turns out to be equal to 1.0 = 1.0 + 10^ -16\n"
     ]
    }
   ],
   "source": [
    "v = 1.\n",
    "pr = determine_precision(v)\n",
    "print('precision is up to 10 ^', pr)\n",
    "print('in fact,', v, 'is different from', v + 10**pr, '=', v, '+ 10^',pr)\n",
    "print(' but', v, 'turns out to be equal to', v + 10**(pr-1),'=', v ,'+ 10^',pr-1)"
   ]
  },
  {
   "cell_type": "markdown",
   "metadata": {},
   "source": [
    "### 5. Write a function that takes in input three parameters $a$, $b$ and $c$ and prints out the two solutions to the quadratic equation $ax^2+bx+c=0$ using the standard formula:\n",
    "$$\n",
    "x=\\frac{-b\\pm\\sqrt{b^2-4ac}}{2a}\n",
    "$$\n",
    "\n",
    "(a) use the program to compute the solution for $a=0.001$, $b=1000$ and $c=0.001$\n",
    "\n",
    "(b) re-express the standard solution formula by multiplying top and bottom by $-b\\mp\\sqrt{b^2-4ac}$ and again find the solution for $a=0.001$, $b=1000$ and $c=0.001$. How does it compare with what previously obtained? Why?\n",
    "\n",
    "(c) write a function that compute the roots of a quadratic equation accurately in all cases"
   ]
  },
  {
   "cell_type": "code",
   "execution_count": 23,
   "metadata": {},
   "outputs": [
    {
     "name": "stdout",
     "output_type": "stream",
     "text": [
      "(-999999.999999, -9.999894245993346e-07)\n",
      "(-1000010.5755125057, -1.000000000001e-06)\n"
     ]
    }
   ],
   "source": [
    "from math import sqrt\n",
    "\n",
    "def poly2_roots(a, b, c):\n",
    "    return (-b - sqrt( (b*b)-(4*a*c) ))/(2*a), (-b + sqrt( (b*b)-(4*a*c) ))/(2*a)\n",
    "\n",
    "def poly2_roots_rationalized(a, b, c):\n",
    "    return 2*c/(-b+sqrt(b*b-4*a*c)), 2*c/(-b-sqrt(b*b-4*a*c))\n",
    "\n",
    "print( poly2_roots(0.001, 1000, 0.001) )\n",
    "print( poly2_roots_rationalized(0.001, 1000, 0.001) )"
   ]
  },
  {
   "cell_type": "markdown",
   "metadata": {},
   "source": [
    "As a reference, the rationalized formula is\n",
    "$$\n",
    "x=\\frac{b^2-b^2+4ac}{2a\\cdot\\Big(-b\\mp\\sqrt{b^2-4ac}\\Big)}=\\frac{2c}{-b\\mp\\sqrt{b^2-4ac}}\n",
    "$$\n",
    "\n",
    "First of all, let us state that because $b$ is much greater than $a$ and $c$, the actual value of $\\sqrt{b^2-4ac}$ can be formally approximated in the form $\\sqrt{b^2-4ac}\\sim b + \\delta$. \n",
    "\n",
    "The division between very small numbers tipically leads to unstable results. Let $x_1,x_2$ denote the solutions computed by the poly2_roots() function, and $\\tilde{x_1},\\tilde{x_2}$ the solutions computed by the rationalized function. $x_1$ does not lead to division between small numbers, as $ x_1=\\frac{-b-\\sqrt{b^2-4ac}}{2a} \\sim \\frac{-b-b-\\delta}{2a}$. Instead, $x_2=\\frac{-b+\\sqrt{b^2-4ac}}{2a} \\sim \\frac{-b+b+\\delta}{2a} = \\frac{\\delta}{2a}$, performs the division between very small values, which leads to unstable behaviour.\n",
    "\n",
    "The same reasons can be extended to $\\tilde{x_1},\\tilde{x_2}$.\n",
    "$$ \\tilde{x_1} = \\frac{2c}{-b +\\sqrt{b^2-4ac}} \\sim \\frac{2c}{-b +b+\\delta} = \\frac{2c}{\\delta} \\;\\; (unstable)$$\n",
    "$$ \\tilde{x_2} = \\frac{2c}{-b -\\sqrt{b^2-4ac}} \\sim \\frac{2c}{-b -b-\\delta} = \\frac{2c}{-2b-\\delta} \\sim -\\frac{c}{b}$$\n",
    "Therefore, the optimal function is given by $(x_1, \\tilde{x_2})$."
   ]
  },
  {
   "cell_type": "code",
   "execution_count": 25,
   "metadata": {},
   "outputs": [],
   "source": [
    "def poly2_optimal(a,b,c):\n",
    "    return (-b - sqrt( (b*b)-(4*a*c) ))/(2*a) , 2*c/(-b-sqrt(b*b-4*a*c))"
   ]
  },
  {
   "cell_type": "markdown",
   "metadata": {
    "tags": []
   },
   "source": [
    "### 6. Write a program that implements the function $f(x)=x(x−1)$\n",
    "\n",
    "(a) Calculate the derivative of the function at the point $x = 1$ using the derivative definition:\n",
    "\n",
    "$$\n",
    "\\frac{{\\rm d}f}{{\\rm d}x} = \\lim_{\\delta\\to0} \\frac{f(x+\\delta)-f(x)}{\\delta}\n",
    "$$\n",
    "\n",
    "with $\\delta = 10^{−2}$. Calculate the true value of the same derivative analytically and compare with the answer your program gives. The two will not agree perfectly. Why not?\n",
    "\n",
    "(b) Repeat the calculation for $\\delta = 10^{−4}, 10^{−6}, 10^{−8}, 10^{−10}, 10^{−12}$ and $10^{−14}$. How does the accuracy scales with $\\delta$?"
   ]
  },
  {
   "cell_type": "code",
   "execution_count": 8,
   "metadata": {},
   "outputs": [
    {
     "name": "stdout",
     "output_type": "stream",
     "text": [
      "delta=10^-2 -> 1.010000000000001\n",
      "delta=10^-4 -> 1.0000999999998899\n",
      "delta=10^-6 -> 1.0000009999177333\n",
      "delta=10^-8 -> 1.0000000039225287\n",
      "delta=10^-10 -> 1.000000082840371\n",
      "delta=10^-12 -> 1.0000889005833413\n",
      "delta=10^-14 -> 0.9992007221626509\n"
     ]
    },
    {
     "data": {
      "image/png": "[encoded data removed]",
      "text/plain": [
       "<Figure size 432x288 with 1 Axes>"
      ]
     },
     "metadata": {
      "needs_background": "light"
     },
     "output_type": "display_data"
    }
   ],
   "source": [
    "import matplotlib.pyplot as plt\n",
    "%matplotlib inline \n",
    "\n",
    "def f(x): return x*(x-1)\n",
    "def derivative(fun, point, delta):   return (fun(point+delta)-fun(point))/delta\n",
    "\n",
    "\n",
    "test_exponents = [-2, -4, -6, -8, -10, -12, -14]\n",
    "test_derivatives = [  ]\n",
    "for i in test_exponents:\n",
    "    print('delta=10^%d' % i,'->', derivative(f,1,10**i) )\n",
    "    test_derivatives.append(derivative(f,1,10**i))\n",
    "    # theoretical value for (df/dx)x=1 = 1\n",
    "\n",
    "plt.plot(test_exponents,test_derivatives, label='precision')\n",
    "plt.xlabel('powers of 10')\n",
    "plt.ylabel('output value')\n",
    "plt.show()"
   ]
  },
  {
   "cell_type": "markdown",
   "metadata": {},
   "source": [
    "The best agreement with the theoretical prediction is given by $\\delta = 10^{-8}$. The lowest value of $\\delta$, $10^{-2}$, shows the highest deviation from the theoretical prediction. It seems that to get the best possible value, the $\\delta$ should not be too small, neither too high."
   ]
  },
  {
   "cell_type": "markdown",
   "metadata": {},
   "source": [
    "### 7. Consider the integral of the semicircle of radius 1:\n",
    "$$\n",
    "I=\\int_{-1}^{1} \\sqrt(1-x^2) {\\rm d}x\n",
    "$$\n",
    "which it's known to be $I=\\frac{\\pi}{2}=1.57079632679...$.\n",
    "Alternatively we can use the Riemann definition of the integral:\n",
    "$$\n",
    "I=\\lim_{N\\to\\infty} \\sum_{k=1}^{N} h y_k \n",
    "$$\n",
    "\n",
    "with $h=2/N$ the width of each of the $N$ slices the domain is divided into and where\n",
    "$y_k$ is the value of the function at the $k-$th slice.\n",
    "\n",
    "(a) Write a programe to compute the integral with $N=100$. How does the result compares to the true value?\n",
    "\n",
    "(b) How much can $N$ be increased if the computation needs to be run in less than a second? What is the gain in running it for 1 minute? \n"
   ]
  },
  {
   "cell_type": "code",
   "execution_count": 9,
   "metadata": {},
   "outputs": [
    {
     "name": "stdout",
     "output_type": "stream",
     "text": [
      "I = 1.5691342555492498\n"
     ]
    }
   ],
   "source": [
    "import numpy as np\n",
    "N = 100\n",
    "\n",
    "def integral(n):\n",
    "    count, h = 0, 2/n\n",
    "    for i in range(n): count += np.sqrt( 1 - ((-1+h*i)**2) )\n",
    "    return h*count\n",
    "\n",
    "print(f'I = {integral(100)}')"
   ]
  },
  {
   "cell_type": "markdown",
   "metadata": {},
   "source": [
    "The result for $N=10^2$ agrees with the predicted value only uop to the 2nd decimal digit."
   ]
  },
  {
   "cell_type": "code",
   "execution_count": 10,
   "metadata": {},
   "outputs": [
    {
     "name": "stdout",
     "output_type": "stream",
     "text": [
      "966 ms ± 3.35 ms per loop (mean ± std. dev. of 7 runs, 1 loop each)\n"
     ]
    }
   ],
   "source": [
    "%timeit integral(600000) # on my computer, this runs in approx a second"
   ]
  },
  {
   "cell_type": "markdown",
   "metadata": {},
   "source": [
    "On my computer, the algorithm takes $960 ms$ for $N=600000$. Instead, the following code runs approximately in 1 min and 3 seconds."
   ]
  },
  {
   "cell_type": "code",
   "execution_count": 7,
   "metadata": {},
   "outputs": [
    {
     "data": {
      "text/plain": [
       "1.5707963267911929"
      ]
     },
     "execution_count": 7,
     "metadata": {},
     "output_type": "execute_result"
    }
   ],
   "source": [
    "integral(60000000)"
   ]
  },
  {
   "cell_type": "markdown",
   "metadata": {},
   "source": [
    "The output value for $N=6\\cdot10^7$ is $1.5707963267911929$. This value is in agreement with the theoretical predicted value, at least to the 12th decimal digit."
   ]
  },
  {
   "cell_type": "markdown",
   "metadata": {},
   "source": [
    "End of file."
   ]
  }
 ],
 "metadata": {
  "kernelspec": {
   "display_name": "Python 3 (ipykernel)",
   "language": "python",
   "name": "python3"
  },
  "language_info": {
   "codemirror_mode": {
    "name": "ipython",
    "version": 3
   },
   "file_extension": ".py",
   "mimetype": "text/x-python",
   "name": "python",
   "nbconvert_exporter": "python",
   "pygments_lexer": "ipython3",
   "version": "3.9.7"
  }
 },
 "nbformat": 4,
 "nbformat_minor": 4
}
